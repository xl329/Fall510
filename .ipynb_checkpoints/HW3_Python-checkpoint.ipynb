{
 "cells": [
  {
   "cell_type": "markdown",
   "metadata": {},
   "source": [
    "1 Define a procedure histogram() that takes a list of integers and prints a histogram to the screen. For example, histogram([4, 9, 7]) should print the following:\n",
    "    ****\n",
    "    *********\n",
    "    *******"
   ]
  },
  {
   "cell_type": "code",
   "execution_count": 6,
   "metadata": {
    "collapsed": false
   },
   "outputs": [
    {
     "name": "stdout",
     "output_type": "stream",
     "text": [
      "****\n",
      "*********\n",
      "*******\n"
     ]
    }
   ],
   "source": [
    "def histogram(x):\n",
    "    \"\"\"\n",
    "    In order to define the histogram(), we will fisrt set a variable x, which is a list of integers. \n",
    "    Then use a for loop function to print the histogram in exercise problem for the integers.\n",
    "    \"\"\"\n",
    "    for n in range(len(x)): #the for loop go through the first integers to the last in the list\n",
    "        print ('*'*x[n]) #for each integer, print a number of *, and the number should equal to the integer \n",
    "    return\n",
    "histogram([4,9,7]) #test histogram() by input a list of integers"
   ]
  },
  {
   "cell_type": "markdown",
   "metadata": {},
   "source": [
    "2 The function max() from exercise 1) and the function max_of_three() from exercise 2) will only work for two and three numbers, respectively. But suppose we have a much larger number of numbers, or suppose we cannot tell in advance how many they are? Write a function max_in_list() that takes a list of numbers and returns the largest one."
   ]
  },
  {
   "cell_type": "code",
   "execution_count": 27,
   "metadata": {
    "collapsed": false
   },
   "outputs": [
    {
     "data": {
      "text/plain": [
       "10"
      ]
     },
     "execution_count": 27,
     "metadata": {},
     "output_type": "execute_result"
    }
   ],
   "source": [
    "def max_in_list(list1):\n",
    "    \"\"\"\n",
    "    For the function max_in_list(), first create a variable list1, which is a list of numbers.\n",
    "    Create a variable maxium, and suppose it is the largest number in the list.\n",
    "    Then use a for loop to compare maxium to the list of numbers, and make maxium equal to the largest one at last. \n",
    "    \"\"\"\n",
    "    maxium=0 #create a variable maxium, and make it equals to 0\n",
    "    for n in range(len(list1)): #the for loop go through the first integers to the last in the list\n",
    "        if list1[n]>maxium: #compare each integer in the list to maxium\n",
    "            maxium=list1[n] #When the integer is larger than maxium, make maxium equal to the integer\n",
    "    return maxium #Output maxium which is equal to the largest number in the list\n",
    "max_in_list([5,3,8,9,10,7]) #test max_in_list() by input a list of numbers"
   ]
  },
  {
   "cell_type": "markdown",
   "metadata": {},
   "source": [
    "3 Write a program that maps a list of words into a list of integers representing the lengths of the corresponding words."
   ]
  },
  {
   "cell_type": "code",
   "execution_count": 21,
   "metadata": {
    "collapsed": false
   },
   "outputs": [
    {
     "name": "stdout",
     "output_type": "stream",
     "text": [
      "[5, 8, 3]\n"
     ]
    }
   ],
   "source": [
    "def wordlen(listw):\n",
    "    \"\"\"\n",
    "    Name the function wordlen(), and create a variable listw, which is a list of words.\n",
    "    Then create a variable listi for the list of integers representing the length of the corresponding words.\n",
    "    Use for loop to write the length of each integer into listi.\n",
    "    \"\"\"\n",
    "    listi=[] #create a variable listi for the list of integers, and make it empty\n",
    "    for n in range(len(listw)): #the for loop go through the first word to the last in the list\n",
    "        listi.append(len(listw[n])) #write the length of the corresponding words into listi\n",
    "    print (listi) #Output listi\n",
    "wordlen(['world','homework','map']) #test wordlen() by input a list of words"
   ]
  },
  {
   "cell_type": "markdown",
   "metadata": {},
   "source": [
    "4 Write a function find_longest_word() that takes a list of words and returns the length of the longest one."
   ]
  },
  {
   "cell_type": "code",
   "execution_count": 30,
   "metadata": {
    "collapsed": false
   },
   "outputs": [
    {
     "data": {
      "text/plain": [
       "8"
      ]
     },
     "execution_count": 30,
     "metadata": {},
     "output_type": "execute_result"
    }
   ],
   "source": [
    "def find_longest_word(listw):\n",
    "    \"\"\"\n",
    "    For the function find_longest_word(), first create a variable listw, which is a list of words.\n",
    "    Create a variable longest, and suppose it is the lengthe of the longest word in the list.\n",
    "    Then use a for loop to compare longest to the length of the words, and make longest equal to the length of the longest word at last.\n",
    "    \"\"\"\n",
    "    longest=0 #create a variable longest, and make it equals to 0\n",
    "    for n in range(len(listw)): #the for loop go through the first word to the last in the list\n",
    "        if len(listw[n])>longest: #compare the length of each word in list to longest\n",
    "            longest=len(listw[n]) #When the length of the word is longer than longest, make longest equals to the length of the word\n",
    "    return longest #Output longest which equals to the length of the longest word in the list\n",
    "find_longest_word(['world','homework','map']) #test find_longest_word() by input a list of words"
   ]
  },
  {
   "cell_type": "markdown",
   "metadata": {},
   "source": [
    "5 Write a function filter_long_words() that takes a list of words and an integer n and returns the list of words that are longer than n."
   ]
  },
  {
   "cell_type": "code",
   "execution_count": 35,
   "metadata": {
    "collapsed": false
   },
   "outputs": [
    {
     "data": {
      "text/plain": [
       "['world', 'homework']"
      ]
     },
     "execution_count": 35,
     "metadata": {},
     "output_type": "execute_result"
    }
   ],
   "source": [
    "def filter_long_words(listw,n):\n",
    "    \"\"\"\n",
    "    For the function filter_long_words(), fisrt create two variables listw and n. \n",
    "    listw is a list of words and n is an interger.\n",
    "    Create a variable pw for the list of words that are longer than n.\n",
    "    Use for loop to compare the length of each word to n, and write the word into pw when it is longer than n.\n",
    "    \"\"\"\n",
    "    pw=[] #creare a variable pw for the list of words longer than n, and make it empty\n",
    "    for i in range(len(listw)): #the foor loop go through the first word to the last in the list\n",
    "        if len(listw[i])>n: #compare the length of each word in list to n\n",
    "            pw.append(listw[i]) #When the length of the word is larger than n, write the word into pw\n",
    "    return pw #Output pw which has the list of words longer than n\n",
    "filter_long_words(['world','homework','map'],4) #test filter_long_words() by input a list of word and an interger"
   ]
  },
  {
   "cell_type": "markdown",
   "metadata": {},
   "source": [
    "6 Write a version of a palindrome recognizer that also accepts phrase palindromes such as \"Go hang a salami I'm a lasagna hog.\", \"Was it a rat I saw?\", \"Step on no pets\", \"Sit on a potato pan, Otis\", \"Lisa Bonet ate no basil\", \"Rise to vote sir\", or the exclamation \"Dammit, I'm mad!\". Note that punctuation, capitalization, and spacing are usually ignored."
   ]
  },
  {
   "cell_type": "code",
   "execution_count": 41,
   "metadata": {
    "collapsed": false
   },
   "outputs": [
    {
     "data": {
      "text/plain": [
       "True"
      ]
     },
     "execution_count": 41,
     "metadata": {},
     "output_type": "execute_result"
    }
   ],
   "source": [
    "def is_palindrome(text):\n",
    "    \"\"\"\n",
    "    Name the function is_palindrome(), and create a variable text, which is a string of words.\n",
    "    Lower all capital letters and put the new string of words into a new variable ltext.\n",
    "    Delete all punctuation and spacing in the ltext and put the new string of words into a new variable newtext.\n",
    "    Then we can use the old version of the palindrome recognizer is last HW.\n",
    "    \"\"\"\n",
    "    ltext=text.lower() #create a variable ltext, lower all capital letters in the text and make the new string of words equals to ltext\n",
    "    words='abcdefghijklmnopqrstuvwxyz' #create a variale words, which is a string of words that contains all 26 letters\n",
    "    newtext='' #create a variable newtext, make it empty and suppose it equals to all characters of ltext except punctuation and spacing\n",
    "    for n in ltext: #the for loop go through the fisrt character to the last in ltext\n",
    "        if n in words: #find out the character in words, if it is a letter\n",
    "            newtext=newtext+n #If the character is in words, write the character into newtext\n",
    "    c=0 #create a variable c, and make it equal to 0\n",
    "    for i in range(len(newtext)): #the for loop go through the first letter to the last in newtext\n",
    "        if newtext[i]==newtext[-(i+1)]: #compare the letter to the symmetric letter in newtext\n",
    "            c=c+1 #if the letter equals to its symmetric letter in newtext, add one to c\n",
    "    if c==len(newtext): #check if all letters have equal eymmetric letters \n",
    "        return True #if they have, the input string of words is a palindrome, output True\n",
    "    else:\n",
    "        return False #if they don't have, the input string of words is not a palindrome, output False\n",
    "is_palindrome('Was it a rat I saw?') #test is_palindrome() by input a phrase palindrome"
   ]
  },
  {
   "cell_type": "markdown",
   "metadata": {},
   "source": [
    "7 A pangram is a sentence that contains all the letters of the English alphabet at least once, for example: The quick brown fox jumps over the lazy dog. Your task here is to write a function to check a sentence to see if it is a pangram or not."
   ]
  },
  {
   "cell_type": "code",
   "execution_count": 2,
   "metadata": {
    "collapsed": false
   },
   "outputs": [
    {
     "data": {
      "text/plain": [
       "True"
      ]
     },
     "execution_count": 2,
     "metadata": {},
     "output_type": "execute_result"
    }
   ],
   "source": [
    "def pangram(text):\n",
    "    \"\"\"\n",
    "    Name the function pangram(), and create a variable text, which is a string of words.\n",
    "    Lower all capital letters and put the new string of words into a new variable ltext.\n",
    "    Use for loop to check if all letters of English alphabet can be found in ltext.\n",
    "    \"\"\"\n",
    "    ltext=text.lower() #create a variable ltext, lower all capital letters in the text and make the new string of words equals to ltext\n",
    "    alphabet='abcdefghijklmnopqrstuvwxyz' #create a variale alphabet, which is a string of words that contains all 26 letters\n",
    "    c=0 #create a variable c, and make it equal to 0\n",
    "    for i in range(len(alphabet)): #the for loop go through the first letter to the last in alphabet\n",
    "        if alphabet[i] in ltext: #check if the letter can be found in ltext\n",
    "            c=c+1 #if the letter can be found in ltext, add one to c\n",
    "    if c==26: #check if all letters of alphabet can be found in ltext\n",
    "        return True #if they can, the input string of words is a pangram, output True\n",
    "    else:\n",
    "        return False #if they can't, the input string of words isn't a pangram, output False\n",
    "pangram('The quick brown fox jumps over the lazy dog.') #test pangram() by input a string of words"
   ]
  },
  {
   "cell_type": "markdown",
   "metadata": {},
   "source": [
    "8 \"99 Bottles of Coke\" is a traditional song in the United States and Canada. It is popular to sing on long trips, as it has a very repetitive format which is easy to memorize, and can take a long time to sing. The song's simple lyrics are as follows:\n",
    "99 bottles of coke on the wall, 99 bottles of coke.\n",
    "Take one down, pass it around, 98 bottles of coke on the wall.\n",
    "The same verse is repeated, each time with one fewer bottle. The song is completed when the singer or singers reach zero.\n",
    "Your task here is write a Python program capable of generating all the verses of the song."
   ]
  },
  {
   "cell_type": "code",
   "execution_count": 51,
   "metadata": {
    "collapsed": false
   },
   "outputs": [
    {
     "name": "stdout",
     "output_type": "stream",
     "text": [
      "99 bottles of beer on the wall, 99 bottles of beer.\n",
      "Take one down, pass it around, 98 bottles of beer on the wall.\n",
      "98 bottles of beer on the wall, 98 bottles of beer.\n",
      "Take one down, pass it around, 97 bottles of beer on the wall.\n",
      "97 bottles of beer on the wall, 97 bottles of beer.\n",
      "Take one down, pass it around, 96 bottles of beer on the wall.\n",
      "96 bottles of beer on the wall, 96 bottles of beer.\n",
      "Take one down, pass it around, 95 bottles of beer on the wall.\n",
      "95 bottles of beer on the wall, 95 bottles of beer.\n",
      "Take one down, pass it around, 94 bottles of beer on the wall.\n",
      "94 bottles of beer on the wall, 94 bottles of beer.\n",
      "Take one down, pass it around, 93 bottles of beer on the wall.\n",
      "93 bottles of beer on the wall, 93 bottles of beer.\n",
      "Take one down, pass it around, 92 bottles of beer on the wall.\n",
      "92 bottles of beer on the wall, 92 bottles of beer.\n",
      "Take one down, pass it around, 91 bottles of beer on the wall.\n",
      "91 bottles of beer on the wall, 91 bottles of beer.\n",
      "Take one down, pass it around, 90 bottles of beer on the wall.\n",
      "90 bottles of beer on the wall, 90 bottles of beer.\n",
      "Take one down, pass it around, 89 bottles of beer on the wall.\n",
      "89 bottles of beer on the wall, 89 bottles of beer.\n",
      "Take one down, pass it around, 88 bottles of beer on the wall.\n",
      "88 bottles of beer on the wall, 88 bottles of beer.\n",
      "Take one down, pass it around, 87 bottles of beer on the wall.\n",
      "87 bottles of beer on the wall, 87 bottles of beer.\n",
      "Take one down, pass it around, 86 bottles of beer on the wall.\n",
      "86 bottles of beer on the wall, 86 bottles of beer.\n",
      "Take one down, pass it around, 85 bottles of beer on the wall.\n",
      "85 bottles of beer on the wall, 85 bottles of beer.\n",
      "Take one down, pass it around, 84 bottles of beer on the wall.\n",
      "84 bottles of beer on the wall, 84 bottles of beer.\n",
      "Take one down, pass it around, 83 bottles of beer on the wall.\n",
      "83 bottles of beer on the wall, 83 bottles of beer.\n",
      "Take one down, pass it around, 82 bottles of beer on the wall.\n",
      "82 bottles of beer on the wall, 82 bottles of beer.\n",
      "Take one down, pass it around, 81 bottles of beer on the wall.\n",
      "81 bottles of beer on the wall, 81 bottles of beer.\n",
      "Take one down, pass it around, 80 bottles of beer on the wall.\n",
      "80 bottles of beer on the wall, 80 bottles of beer.\n",
      "Take one down, pass it around, 79 bottles of beer on the wall.\n",
      "79 bottles of beer on the wall, 79 bottles of beer.\n",
      "Take one down, pass it around, 78 bottles of beer on the wall.\n",
      "78 bottles of beer on the wall, 78 bottles of beer.\n",
      "Take one down, pass it around, 77 bottles of beer on the wall.\n",
      "77 bottles of beer on the wall, 77 bottles of beer.\n",
      "Take one down, pass it around, 76 bottles of beer on the wall.\n",
      "76 bottles of beer on the wall, 76 bottles of beer.\n",
      "Take one down, pass it around, 75 bottles of beer on the wall.\n",
      "75 bottles of beer on the wall, 75 bottles of beer.\n",
      "Take one down, pass it around, 74 bottles of beer on the wall.\n",
      "74 bottles of beer on the wall, 74 bottles of beer.\n",
      "Take one down, pass it around, 73 bottles of beer on the wall.\n",
      "73 bottles of beer on the wall, 73 bottles of beer.\n",
      "Take one down, pass it around, 72 bottles of beer on the wall.\n",
      "72 bottles of beer on the wall, 72 bottles of beer.\n",
      "Take one down, pass it around, 71 bottles of beer on the wall.\n",
      "71 bottles of beer on the wall, 71 bottles of beer.\n",
      "Take one down, pass it around, 70 bottles of beer on the wall.\n",
      "70 bottles of beer on the wall, 70 bottles of beer.\n",
      "Take one down, pass it around, 69 bottles of beer on the wall.\n",
      "69 bottles of beer on the wall, 69 bottles of beer.\n",
      "Take one down, pass it around, 68 bottles of beer on the wall.\n",
      "68 bottles of beer on the wall, 68 bottles of beer.\n",
      "Take one down, pass it around, 67 bottles of beer on the wall.\n",
      "67 bottles of beer on the wall, 67 bottles of beer.\n",
      "Take one down, pass it around, 66 bottles of beer on the wall.\n",
      "66 bottles of beer on the wall, 66 bottles of beer.\n",
      "Take one down, pass it around, 65 bottles of beer on the wall.\n",
      "65 bottles of beer on the wall, 65 bottles of beer.\n",
      "Take one down, pass it around, 64 bottles of beer on the wall.\n",
      "64 bottles of beer on the wall, 64 bottles of beer.\n",
      "Take one down, pass it around, 63 bottles of beer on the wall.\n",
      "63 bottles of beer on the wall, 63 bottles of beer.\n",
      "Take one down, pass it around, 62 bottles of beer on the wall.\n",
      "62 bottles of beer on the wall, 62 bottles of beer.\n",
      "Take one down, pass it around, 61 bottles of beer on the wall.\n",
      "61 bottles of beer on the wall, 61 bottles of beer.\n",
      "Take one down, pass it around, 60 bottles of beer on the wall.\n",
      "60 bottles of beer on the wall, 60 bottles of beer.\n",
      "Take one down, pass it around, 59 bottles of beer on the wall.\n",
      "59 bottles of beer on the wall, 59 bottles of beer.\n",
      "Take one down, pass it around, 58 bottles of beer on the wall.\n",
      "58 bottles of beer on the wall, 58 bottles of beer.\n",
      "Take one down, pass it around, 57 bottles of beer on the wall.\n",
      "57 bottles of beer on the wall, 57 bottles of beer.\n",
      "Take one down, pass it around, 56 bottles of beer on the wall.\n",
      "56 bottles of beer on the wall, 56 bottles of beer.\n",
      "Take one down, pass it around, 55 bottles of beer on the wall.\n",
      "55 bottles of beer on the wall, 55 bottles of beer.\n",
      "Take one down, pass it around, 54 bottles of beer on the wall.\n",
      "54 bottles of beer on the wall, 54 bottles of beer.\n",
      "Take one down, pass it around, 53 bottles of beer on the wall.\n",
      "53 bottles of beer on the wall, 53 bottles of beer.\n",
      "Take one down, pass it around, 52 bottles of beer on the wall.\n",
      "52 bottles of beer on the wall, 52 bottles of beer.\n",
      "Take one down, pass it around, 51 bottles of beer on the wall.\n",
      "51 bottles of beer on the wall, 51 bottles of beer.\n",
      "Take one down, pass it around, 50 bottles of beer on the wall.\n",
      "50 bottles of beer on the wall, 50 bottles of beer.\n",
      "Take one down, pass it around, 49 bottles of beer on the wall.\n",
      "49 bottles of beer on the wall, 49 bottles of beer.\n",
      "Take one down, pass it around, 48 bottles of beer on the wall.\n",
      "48 bottles of beer on the wall, 48 bottles of beer.\n",
      "Take one down, pass it around, 47 bottles of beer on the wall.\n",
      "47 bottles of beer on the wall, 47 bottles of beer.\n",
      "Take one down, pass it around, 46 bottles of beer on the wall.\n",
      "46 bottles of beer on the wall, 46 bottles of beer.\n",
      "Take one down, pass it around, 45 bottles of beer on the wall.\n",
      "45 bottles of beer on the wall, 45 bottles of beer.\n",
      "Take one down, pass it around, 44 bottles of beer on the wall.\n",
      "44 bottles of beer on the wall, 44 bottles of beer.\n",
      "Take one down, pass it around, 43 bottles of beer on the wall.\n",
      "43 bottles of beer on the wall, 43 bottles of beer.\n",
      "Take one down, pass it around, 42 bottles of beer on the wall.\n",
      "42 bottles of beer on the wall, 42 bottles of beer.\n",
      "Take one down, pass it around, 41 bottles of beer on the wall.\n",
      "41 bottles of beer on the wall, 41 bottles of beer.\n",
      "Take one down, pass it around, 40 bottles of beer on the wall.\n",
      "40 bottles of beer on the wall, 40 bottles of beer.\n",
      "Take one down, pass it around, 39 bottles of beer on the wall.\n",
      "39 bottles of beer on the wall, 39 bottles of beer.\n",
      "Take one down, pass it around, 38 bottles of beer on the wall.\n",
      "38 bottles of beer on the wall, 38 bottles of beer.\n",
      "Take one down, pass it around, 37 bottles of beer on the wall.\n",
      "37 bottles of beer on the wall, 37 bottles of beer.\n",
      "Take one down, pass it around, 36 bottles of beer on the wall.\n",
      "36 bottles of beer on the wall, 36 bottles of beer.\n",
      "Take one down, pass it around, 35 bottles of beer on the wall.\n",
      "35 bottles of beer on the wall, 35 bottles of beer.\n",
      "Take one down, pass it around, 34 bottles of beer on the wall.\n",
      "34 bottles of beer on the wall, 34 bottles of beer.\n",
      "Take one down, pass it around, 33 bottles of beer on the wall.\n",
      "33 bottles of beer on the wall, 33 bottles of beer.\n",
      "Take one down, pass it around, 32 bottles of beer on the wall.\n",
      "32 bottles of beer on the wall, 32 bottles of beer.\n",
      "Take one down, pass it around, 31 bottles of beer on the wall.\n",
      "31 bottles of beer on the wall, 31 bottles of beer.\n",
      "Take one down, pass it around, 30 bottles of beer on the wall.\n",
      "30 bottles of beer on the wall, 30 bottles of beer.\n",
      "Take one down, pass it around, 29 bottles of beer on the wall.\n",
      "29 bottles of beer on the wall, 29 bottles of beer.\n",
      "Take one down, pass it around, 28 bottles of beer on the wall.\n",
      "28 bottles of beer on the wall, 28 bottles of beer.\n",
      "Take one down, pass it around, 27 bottles of beer on the wall.\n",
      "27 bottles of beer on the wall, 27 bottles of beer.\n",
      "Take one down, pass it around, 26 bottles of beer on the wall.\n",
      "26 bottles of beer on the wall, 26 bottles of beer.\n",
      "Take one down, pass it around, 25 bottles of beer on the wall.\n",
      "25 bottles of beer on the wall, 25 bottles of beer.\n",
      "Take one down, pass it around, 24 bottles of beer on the wall.\n",
      "24 bottles of beer on the wall, 24 bottles of beer.\n",
      "Take one down, pass it around, 23 bottles of beer on the wall.\n",
      "23 bottles of beer on the wall, 23 bottles of beer.\n",
      "Take one down, pass it around, 22 bottles of beer on the wall.\n",
      "22 bottles of beer on the wall, 22 bottles of beer.\n",
      "Take one down, pass it around, 21 bottles of beer on the wall.\n",
      "21 bottles of beer on the wall, 21 bottles of beer.\n",
      "Take one down, pass it around, 20 bottles of beer on the wall.\n",
      "20 bottles of beer on the wall, 20 bottles of beer.\n",
      "Take one down, pass it around, 19 bottles of beer on the wall.\n",
      "19 bottles of beer on the wall, 19 bottles of beer.\n",
      "Take one down, pass it around, 18 bottles of beer on the wall.\n",
      "18 bottles of beer on the wall, 18 bottles of beer.\n",
      "Take one down, pass it around, 17 bottles of beer on the wall.\n",
      "17 bottles of beer on the wall, 17 bottles of beer.\n",
      "Take one down, pass it around, 16 bottles of beer on the wall.\n",
      "16 bottles of beer on the wall, 16 bottles of beer.\n",
      "Take one down, pass it around, 15 bottles of beer on the wall.\n",
      "15 bottles of beer on the wall, 15 bottles of beer.\n",
      "Take one down, pass it around, 14 bottles of beer on the wall.\n",
      "14 bottles of beer on the wall, 14 bottles of beer.\n",
      "Take one down, pass it around, 13 bottles of beer on the wall.\n",
      "13 bottles of beer on the wall, 13 bottles of beer.\n",
      "Take one down, pass it around, 12 bottles of beer on the wall.\n",
      "12 bottles of beer on the wall, 12 bottles of beer.\n",
      "Take one down, pass it around, 11 bottles of beer on the wall.\n",
      "11 bottles of beer on the wall, 11 bottles of beer.\n",
      "Take one down, pass it around, 10 bottles of beer on the wall.\n",
      "10 bottles of beer on the wall, 10 bottles of beer.\n",
      "Take one down, pass it around, 9 bottles of beer on the wall.\n",
      "9 bottles of beer on the wall, 9 bottles of beer.\n",
      "Take one down, pass it around, 8 bottles of beer on the wall.\n",
      "8 bottles of beer on the wall, 8 bottles of beer.\n",
      "Take one down, pass it around, 7 bottles of beer on the wall.\n",
      "7 bottles of beer on the wall, 7 bottles of beer.\n",
      "Take one down, pass it around, 6 bottles of beer on the wall.\n",
      "6 bottles of beer on the wall, 6 bottles of beer.\n",
      "Take one down, pass it around, 5 bottles of beer on the wall.\n",
      "5 bottles of beer on the wall, 5 bottles of beer.\n",
      "Take one down, pass it around, 4 bottles of beer on the wall.\n",
      "4 bottles of beer on the wall, 4 bottles of beer.\n",
      "Take one down, pass it around, 3 bottles of beer on the wall.\n",
      "3 bottles of beer on the wall, 3 bottles of beer.\n",
      "Take one down, pass it around, 2 bottles of beer on the wall.\n",
      "2 bottles of beer on the wall, 2 bottles of beer.\n",
      "Take one down, pass it around, 1 bottles of beer on the wall.\n",
      "1 bottles of beer on the wall, 1 bottles of beer.\n",
      "Take one down, pass it around, 0 bottles of beer on the wall.\n"
     ]
    }
   ],
   "source": [
    "def singverses():\n",
    "    \"\"\"\n",
    "    Name the function singverses(), and make a for loop that go through a variable i from 99 to 1 to print the verses of the song.\n",
    "    \"\"\"\n",
    "    for i in range(99,0,-1): #the for loop go through variable i from 99 to 1, print 99 times\n",
    "        print(str(i)+' bottles of beer on the wall, '+str(i)+' bottles of beer.') #print verses that contains i bottles\n",
    "        print('Take one down, pass it around, '+str(i-1)+' bottles of beer on the wall.') #print verses that contains i-1 bottles\n",
    "singverses() #test singverses()"
   ]
  },
  {
   "cell_type": "markdown",
   "metadata": {},
   "source": [
    "9 Represent a small bilingual lexicon as a Python dictionary in the following fashion {\"merry\":\"god\", \"christmas\":\"jul\", \"and\":\"och\", \"happy\":gott\", \"new\":\"nytt\", \"year\":\"år\"} and use it to translate your Christmas cards from English into Swedish. That is, write a function translate() that takes a list of English words and returns a list of Swedish words."
   ]
  },
  {
   "cell_type": "code",
   "execution_count": 6,
   "metadata": {
    "collapsed": false
   },
   "outputs": [
    {
     "data": {
      "text/plain": [
       "'god jul och gott nytt år '"
      ]
     },
     "execution_count": 6,
     "metadata": {},
     "output_type": "execute_result"
    }
   ],
   "source": [
    "def translate(text):\n",
    "    \"\"\"\n",
    "    For the function translate(), create a variable text, which is a string of words.\n",
    "    Create a variable dictionary, which is a dictionary of English and Swedish words.\n",
    "    Use a for loop to change the input words to corresponding words in the dictionary.\n",
    "    \"\"\"\n",
    "    dictionary={'merry':'god', 'christmas':'jul', 'and':'och', 'happy':'gott', 'new':'nytt', 'year':'år'} #create a variable dictionary\n",
    "    swedish='' #create a variable swedish, which is a string of words, make it empty and suppose it is the translated string of words\n",
    "    for i in text.split(): #the for loop go through from the first word to the last in text\n",
    "        if (str(dictionary.get(i)))!='None': #check if the word is in dictionary\n",
    "            swedish=swedish+str(dictionary.get(i))+' ' #if the word is in dictionary, write the corresponding word in swedish\n",
    "    return swedish #output swedish\n",
    "translate('merry christmas and happy new year') #test translate() by input a string of words in Christmas cards"
   ]
  },
  {
   "cell_type": "markdown",
   "metadata": {},
   "source": [
    "10 Write a function char_freq() that takes a string and builds a frequency listing of the characters contained in it. Represent the frequency listing as a Python dictionary. Try it with something like char_freq(\"abbabcbdbabdbdbabababcbcbab\")."
   ]
  },
  {
   "cell_type": "code",
   "execution_count": 10,
   "metadata": {
    "collapsed": false
   },
   "outputs": [
    {
     "data": {
      "text/plain": [
       "{'a': 7, 'b': 14, 'c': 3, 'd': 3}"
      ]
     },
     "execution_count": 10,
     "metadata": {},
     "output_type": "execute_result"
    }
   ],
   "source": [
    "def char_freq(string):\n",
    "    \"\"\"\n",
    "    For the function char_freq(), create a variable string which is a string of characters\n",
    "    Create a variable dictionary which is a dictionary of characters and its frequency in the string of characters.\n",
    "    Use for loop to write characters and its frequency into dictionary.\n",
    "    \"\"\"\n",
    "    dictionary={} #create a variable dictionary and make it empty\n",
    "    for i in range(len(string)): #the for loop go through the first characters to the last in string\n",
    "        if string[i] in dictionary: #check if the character is in dictionary\n",
    "            dictionary[string[i]]=int(dictionary.get(string[i]))+1 #if the character is in dictioanry, add one to the frequency of the character \n",
    "        else:\n",
    "            dictionary[string[i]]=1 #if the character is not in dictionary, write the character into dictionary and make the frequency equal to 1 \n",
    "    return dictionary #output dictionary\n",
    "char_freq('abbabcbdbabdbdbabababcbcbab') #test char_freq() by input a string of characters"
   ]
  },
  {
   "cell_type": "markdown",
   "metadata": {},
   "source": [
    "11 In cryptography, a Caesar cipher is a very simple encryption techniques in which each letter in the plain text is replaced by a letter some fixed number of positions down the alphabet. For example, with a shift of 3, A would be replaced by D, B would become E, and so on. The method is named after Julius Caesar, who used it to communicate with his generals. ROT-13 (\"rotate by 13 places\") is a widely used example of a Caesar cipher where the shift is 13. In Python, the key for ROT-13 may be represented by means of the following dictionary:\n",
    "key = {'a':'n', 'b':'o', 'c':'p', 'd':'q', 'e':'r', 'f':'s', 'g':'t', 'h':'u', 'i':'v', 'j':'w', 'k':'x', 'l':'y', 'm':'z', 'n':'a', 'o':'b', 'p':'c', 'q':'d', 'r':'e', 's':'f', 't':'g', 'u':'h', 'v':'i', 'w':'j', 'x':'k', 'y':'l', 'z':'m', 'A':'N', 'B':'O', 'C':'P', 'D':'Q', 'E':'R', 'F':'S', 'G':'T', 'H':'U', 'I':'V', 'J':'W', 'K':'X', 'L':'Y', 'M':'Z', 'N':'A', 'O':'B', 'P':'C', 'Q':'D', 'R':'E', 'S':'F', 'T':'G', 'U':'H', 'V':'I', 'W':'J', 'X':'K', 'Y':'L', 'Z':'M'}\n",
    "Your task in this exercise is to implement an encoder/decoder of ROT-13. Once you're done, you will be able to read the following secret message:\n",
    "Pnrfne pvcure? V zhpu cersre Pnrfne fnynq!\n",
    "Note that since English has 26 characters, your ROT-13 program will be able to both encode and decode texts written in English."
   ]
  },
  {
   "cell_type": "code",
   "execution_count": 3,
   "metadata": {
    "collapsed": false
   },
   "outputs": [
    {
     "name": "stdout",
     "output_type": "stream",
     "text": [
      "Caesar cipher? I much prefer Caesar salad!\n"
     ]
    }
   ],
   "source": [
    "def rot13(text):\n",
    "    \"\"\"\n",
    "    Name the function rot13(), and create a variable text which is a string of words.\n",
    "    Create a variable key which is a dictornary of characters and its corresponding characters in ROT-13.\n",
    "    Use for loop to change the characters to its corresponding characters in key.\n",
    "    \"\"\"\n",
    "    key={'a':'n','b':'o','c':'p','d':'q','e':'r','f':'s','g':'t','h':'u','i':'v','j':'w','k':'x','l':'y','m':'z','n':'a','o':'b','p':'c','q':'d','r':'e','s':'f','t':'g','u':'h','v':'i','w':'j','x':'k','y':'l','z':'m','A':'N','B':'O','C':'P','D':'Q','E':'R','F':'S','G':'T','H':'U','I':'V','J':'W','K':'X','L':'Y','M':'Z','N':'A','O':'B','P':'C','Q':'D','R':'E','S':'F','T':'G','U':'H','V':'I','W':'J','X':'K','Y':'L','Z':'M'} \n",
    "    result='' #create a variable result which is a string of words and make it empty, suppose it is the translated output\n",
    "    for n in range(len(text)): #the for loop go through the first character to the last in text\n",
    "        if text[n] in key: #check if the character can be found in key\n",
    "            result=result+key[text[n]] #if the character can be found in key, write the correspounding character in result\n",
    "        else:\n",
    "            result=result+text[n] #if the character can't be found in key, write the character in result\n",
    "    print(result) #output result\n",
    "rot13('Pnrfne pvcure? V zhpu cersre Pnrfne fnynq!') #test rot13() by input a string of words"
   ]
  },
  {
   "cell_type": "markdown",
   "metadata": {},
   "source": [
    "12 Define a simple \"spelling correction\" function correct() that takes a string and sees to it that 1) two or more occurrences of the space character is compressed into one, and 2) inserts an extra space after a period if the period is directly followed by a letter. E.g. correct(\"This is very funny and cool.Indeed!\") should return \"This is very funny and cool. Indeed!\""
   ]
  },
  {
   "cell_type": "code",
   "execution_count": 20,
   "metadata": {
    "collapsed": false
   },
   "outputs": [
    {
     "name": "stdout",
     "output_type": "stream",
     "text": [
      "This is very funny and cool. Indeed!\n"
     ]
    }
   ],
   "source": [
    "def correct(text):\n",
    "    \"\"\"\n",
    "    For the function correct(), create a variable text which is a string of words.\n",
    "    Use for loop to check the spelling correction and correct the error.\n",
    "    \"\"\"\n",
    "    correcttext='' #create a variable correcttext which is a string of words, and make it empty, suppose it is the correct version of input \n",
    "    for n in range(len(text)): #the for loop go through the first character to the last in text\n",
    "        if text[n]==' ' and text[n+1]==' ': #check if two or more occurrences of the space character are in text\n",
    "            correcttext=correcttext #if they are, write nothing in correcttext\n",
    "        elif text[n]=='.' and text[n+1]!=' ': #check if there is no space after a period\n",
    "            correcttext=correcttext+text[n]+' ' #if there is, write the character and a space character in correcttext\n",
    "        else:\n",
    "            correcttext=correcttext+text[n] #if there is no error, write the character in correcttext\n",
    "    print(correcttext) #output correcttext\n",
    "correct('This is very funny and cool.Indeed!') #test correct() by input a string of words"
   ]
  },
  {
   "cell_type": "markdown",
   "metadata": {},
   "source": [
    "13 The third person singular verb form in English is distinguished by the suffix -s, which is added to the stem of the infinitive form: run -> runs. A simple set of rules can be given as follows:\n",
    "• If the verb ends in y, remove it and add ies\n",
    "• Iftheverbendsino,ch,s,sh,xorz,addes\n",
    "• By default just add s\n",
    "Your task in this exercise is to define a function make_3sg_form() which given a verb in infinitive form returns its third person singular form. Test your function with words like try, brush, run and fix. Note however that the rules must be regarded as heuristic, in the sense that you must not expect them to work for all cases. Tip: Check out the string method endswith()."
   ]
  },
  {
   "cell_type": "code",
   "execution_count": 29,
   "metadata": {
    "collapsed": false
   },
   "outputs": [
    {
     "name": "stdout",
     "output_type": "stream",
     "text": [
      "tries\n",
      "brushes\n",
      "runs\n",
      "fixes\n"
     ]
    }
   ],
   "source": [
    "def make_3sg_form(word):\n",
    "    \"\"\"\n",
    "    For the function make_3sg_form(), create a variable word which is a string of letters(a word).\n",
    "    Create a variable es which is a list of end characters that need to add es for suffix-s.\n",
    "    Use if...elif... statement to remove y and add ies for verb ends with y, add es for the verb end with characters in es, and add s for other cases \n",
    "    \"\"\"\n",
    "    es = ('o','ch','s','sh','x','z') #create a variable es contians all situation for adding es \n",
    "    verbform='' #create a variable verbform which is the suffix-s for verb input, and make it empty\n",
    "    if word.endswith('y'): #check if the word ends with y\n",
    "        n=0 #if it does, create a variable n and make it equal to 0, and run a loop below\n",
    "        while n<(len(word)-1): #the while loop go through the first character to the last but one in word\n",
    "            verbform=verbform+word[n] # write the character into verbform\n",
    "            n=n+1 #add one to n, go to the next loop\n",
    "        verbform=verbform+'ies' #After loop, add ies to the end of verbform\n",
    "    elif word.endswith(es): #check if the word ends with the situation in es\n",
    "        verbform=word+'es' #if it is, verbform equals to the word plus es\n",
    "    else:\n",
    "        verbform=word+'s' #it it isn't, verbform equals to the word plus s\n",
    "    print (verbform) #output verbform\n",
    "make_3sg_form('try') #test the if part of make_3sg_form() by input try\n",
    "make_3sg_form('brush') #test the elif part of make_3sg_form() by input brush\n",
    "make_3sg_form('run') #test the else part of make_3sg_form() by input run\n",
    "make_3sg_form('fix') #test the elif part of make_3sg_form() by input fix"
   ]
  },
  {
   "cell_type": "markdown",
   "metadata": {},
   "source": [
    "14 In English, the present participle is formed by adding the suffix -ing to the infinite form: go -> going. A simple set of heuristic rules can be given as follows:\n",
    "• If the verb ends in e, drop the e and add ing (if not exception: be, see, flee, knee, etc.)\n",
    "• If the verb ends in ie, change ie to y and add ing\n",
    "• For words consisting of consonant-vowel-consonant, double the final\n",
    "letter before adding ing\n",
    "• By default just add ing\n",
    "Your task in this exercise is to define a function make_ing_form() which given a verb in infinitive form returns its present participle form. Test your function with words such as lie, see, move and hug. However, you must not expect such simple rules to work for all cases."
   ]
  },
  {
   "cell_type": "code",
   "execution_count": 39,
   "metadata": {
    "collapsed": false
   },
   "outputs": [
    {
     "name": "stdout",
     "output_type": "stream",
     "text": [
      "lying\n",
      "seeing\n",
      "moving\n",
      "hugging\n"
     ]
    }
   ],
   "source": [
    "def make_ing_form(word):\n",
    "    \"\"\"\n",
    "    For the function make_ing_form(), create a variable word which is a string of letters(a word).\n",
    "    use if...elif...statement to change the word into suffix-ing version.\n",
    "    \"\"\"\n",
    "    verbing='' #create a variable verbing which is the suffix-ing for verb input, and make it empty\n",
    "    if word.endswith('ie'): #check if the word ends with ie\n",
    "        n=0 #if it does, create a variable n=0 and run a loop below\n",
    "        while n<(len(word)-2): #the while loop go through the first character to the antepenult in the word\n",
    "            verbing=verbing+word[n] #write the character in verbing\n",
    "            n=n+1 #add one to n, go to the next loop\n",
    "        verbing=verbing+'y'+'ing' #After loop, add ying to verbing\n",
    "    elif word=='be': #check if the word is be\n",
    "        verbing=word+'ing' #if it is, verbing equals to the word plus ing\n",
    "    elif word.endswith('ee'): #check if the word ends with ee\n",
    "        verbing=word+'ing' #if it does, verbing equals to the word plus ing\n",
    "    elif word.endswith('e'): #check if the word ends with e\n",
    "        i=0 #if it does, create a variable i=0 and run a loop below\n",
    "        while i<(len(word)-1): #the while loop go through the first charcter to the last but one in word\n",
    "            verbing=verbing+word[i] #write the character in verbing\n",
    "            i=i+1 #add one to i, go to the next loop\n",
    "        verbing=verbing+'ing' #after loop, add ing to verbing\n",
    "    elif word[-2] in 'aiou'and word[-1] not in 'aeiou': #check if the last but one character in the word is in aiou\n",
    "        verbing=word+word[-1]+'ing' #if it is, verbing equals to word add the last character of word and add ing\n",
    "    print(verbing) #output verbing\n",
    "\n",
    "make_ing_form('lie') #check the ie case in make_ing_form() by input lie\n",
    "make_ing_form('see') #check the ee case in make_ing_form() by input see\n",
    "make_ing_form('move') #check the e case in make_ing_form() by input move\n",
    "make_ing_form('hug') #check the aiou case in make_ing_form() by input hug"
   ]
  },
  {
   "cell_type": "code",
   "execution_count": null,
   "metadata": {
    "collapsed": true
   },
   "outputs": [],
   "source": []
  }
 ],
 "metadata": {
  "kernelspec": {
   "display_name": "Python 3",
   "language": "python",
   "name": "python3"
  },
  "language_info": {
   "codemirror_mode": {
    "name": "ipython",
    "version": 3
   },
   "file_extension": ".py",
   "mimetype": "text/x-python",
   "name": "python",
   "nbconvert_exporter": "python",
   "pygments_lexer": "ipython3",
   "version": "3.4.3"
  }
 },
 "nbformat": 4,
 "nbformat_minor": 0
}
