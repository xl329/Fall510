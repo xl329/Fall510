{
 "cells": [
  {
   "cell_type": "markdown",
   "metadata": {},
   "source": [
    "Let coords be a vector of x,y pairs that describe the vertices of a polygon given in order. For example, the vector of x,y pairs below forms a square.\n",
    "Write functions polygperim(coords) and polygarea(coords) that compute the perimeter and area of the polygon. For the area, use the following formula based on Green’s theorem:\n",
    "n is the number of polygon vertices, and by definition, 𝑥n+1= 𝑥1 and 𝑦n+1= 𝑦1. Test the functions on a square and an equilateral triangle."
   ]
  },
  {
   "cell_type": "code",
   "execution_count": 26,
   "metadata": {
    "collapsed": false
   },
   "outputs": [
    {
     "data": {
      "text/plain": [
       "8.0"
      ]
     },
     "execution_count": 26,
     "metadata": {},
     "output_type": "execute_result"
    }
   ],
   "source": [
    "'''\n",
    "For the function polygperim(coords), we will first create a variable perimeter represent the perimeter of polygon. \n",
    "Then run a for loop to add the distances between points in order. \n",
    "When input coords, we need to pay attention that the points of polygon should be entried in clockwise or anticlockwise order, otherwise the result will be wrong.\n",
    "'''\n",
    "def polygperim(coords): #create function polygperim() with input value coords\n",
    "    perimeter=0 #create variable perimeter represent the perimeter of polygon, let it be 0 first\n",
    "    points=coords+[coords[0]] #In order to calculate the distance between the last and the first points in coords, create variable points and let points be coords plus the first point in coords \n",
    "    for i in range(len(coords)): #use for loop to go through from the first points to the last in coords\n",
    "        perimeter += ((points[i][0]-points[i+1][0])**2+(points[i][1]-points[i+1][1])**2)**(1/2) #Calculate the distance between ith and (i+1)th points in variable points, and add it to perimeter\n",
    "    return perimeter #output the perimeter of the polygon\n",
    "polygperim([(0,0),(2,0),(2,2),(0,2)]) #test polygperim() by input coords=[(0,0),(2,0),(2,2),(0,2)]"
   ]
  },
  {
   "cell_type": "code",
   "execution_count": 45,
   "metadata": {
    "collapsed": false
   },
   "outputs": [
    {
     "data": {
      "text/plain": [
       "4.0"
      ]
     },
     "execution_count": 45,
     "metadata": {},
     "output_type": "execute_result"
    }
   ],
   "source": [
    "'''\n",
    "For the function polygarea(coords), we will first create a variable area represent the area of polygon.\n",
    "Then use a for loop to calculate the area of the polygon based on Green's theorem.\n",
    "When input coords, we need to pay attention that the points of polygon should be entried in clockwise or anticlockwise order, otherwise the result might be wrong.\n",
    "'''\n",
    "def polygarea(coords): #create function polygarea() with input value coords\n",
    "    area=0 #create variable area represent the area of polygon, let it be 0 first\n",
    "    points=coords+[coords[0]] #In order to calculate the part of Green's theorem between the last and the first points in coords, create variable points and let points be coords plus the first point in coords\n",
    "    for i in range(len(coords)): #use for loop to go through from the first points to the last in coords\n",
    "        area += abs(points[i][0] * points[i+1][1]-points[i+1][0] * points[i][1])/2 #Calculate each part of Green's theorem and add it into variable area; use abs() to make sure the area is positive\n",
    "    return area #output the area of the polygon\n",
    "polygarea([(0,0),(2,0),(2,2),(0,2)]) #test polygarea() by input coords=[(0,0),(2,0),(2,2),(0,2)]"
   ]
  },
  {
   "cell_type": "code",
   "execution_count": null,
   "metadata": {
    "collapsed": true
   },
   "outputs": [],
   "source": []
  }
 ],
 "metadata": {
  "kernelspec": {
   "display_name": "Python 3",
   "language": "python",
   "name": "python3"
  },
  "language_info": {
   "codemirror_mode": {
    "name": "ipython",
    "version": 3
   },
   "file_extension": ".py",
   "mimetype": "text/x-python",
   "name": "python",
   "nbconvert_exporter": "python",
   "pygments_lexer": "ipython3",
   "version": "3.4.3"
  }
 },
 "nbformat": 4,
 "nbformat_minor": 0
}
