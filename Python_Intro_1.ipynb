{
 "cells": [
  {
   "cell_type": "markdown",
   "metadata": {},
   "source": [
    "# Introduction to iPython"
   ]
  },
  {
   "cell_type": "markdown",
   "metadata": {},
   "source": [
    "## Do some simple math. Add and multiply some numbers."
   ]
  },
  {
   "cell_type": "code",
   "execution_count": 2,
   "metadata": {
    "collapsed": false
   },
   "outputs": [
    {
     "name": "stdout",
     "output_type": "stream",
     "text": [
      "65683\n",
      "256\n",
      "15\n"
     ]
    }
   ],
   "source": [
    "print(2+56+84+65498+21+22) #Calculate the sum of those numbers\n",
    "print(2**8) #Calculate the 8 power of 2\n",
    "print((1+4)*(9-6)) #Calculate the result in bracket"
   ]
  },
  {
   "cell_type": "markdown",
   "metadata": {},
   "source": [
    "## Characters"
   ]
  },
  {
   "cell_type": "code",
   "execution_count": 1,
   "metadata": {
    "collapsed": false
   },
   "outputs": [
    {
     "name": "stdout",
     "output_type": "stream",
     "text": [
      "s a\n",
      "pa pam spa\n"
     ]
    }
   ],
   "source": [
    "s = 'spam' #Create a variable called s\n",
“AW: What is a string?”
    "print(s[0], s[-2]) #Print the first letter and the third letter in s\n",
    "print(s[1:3], s[1:], s[:-1]) #Print the combinations of the second and third letter; the letters after the second letter; all letters except the last one"
   ]
“AW: great comment!”
  },
  {
   "cell_type": "markdown",
   "metadata": {},
   "source": [
    "## Check current working directory"
   ]
  },
  {
   "cell_type": "code",
   "execution_count": 2,
   "metadata": {
    "collapsed": false
   },
   "outputs": [
    {
     "name": "stdout",
     "output_type": "stream",
     "text": [
      "/Users/xinyueli/GitHub/Fall510\n",
      "darwin\n"
     ]
    }
   ],
   "source": [
    "import sys #Load the sys library\n",
    "import os #Load the os library\n",
    "import re #Load regular expression pattern matching library\n",
    "print(os.getcwd()) #print the link in your computer\n",
    "print(sys.platform) #print the variable platform in sys "
   ]
  },
  {
   "cell_type": "markdown",
   "metadata": {},
   "source": [
    "## Help"
   ]
  },
  {
   "cell_type": "code",
   "execution_count": 11,
   "metadata": {
    "collapsed": false
   },
   "outputs": [],
   "source": [
    "help(os) #Finding how to use os"
   ]
“AW: Did you have an output for help(os)?”
  },
  {
   "cell_type": "code",
   "execution_count": 2,
   "metadata": {
    "collapsed": false
   },
   "outputs": [],
   "source": [
    "import urllib.request #Load the urllib.request library\n",
    "r = urllib.request.urlopen('https://github.com/gerhardpilcher/2015Fall510/raw/master/2015%20FALL%20510%20Course%20Schedule.pdf') #create variable r from document in github\n",
    "myfile = open('/Users/xinyueli/GitHub/Fall510/Schedule.pdf', 'wb') #Open variable called myfile in my computer\n",
“AW: ‘wb’ indicates that the file is opened for writing in binary mode”
    "myfile.write(r.read()) #write r in myfile\n",
    "myfile.close() #close the document"
   ]
  },
  {
   "cell_type": "code",
   "execution_count": 4,
   "metadata": {
    "collapsed": false
   },
   "outputs": [],
   "source": [
    "r = urllib.request.urlopen('https://github.com/gerhardpilcher/2015Fall510/raw/master/2015%20FALL%20510%20Syllabus.pdf') #create variable r from document in github\n",
    "myfile = open('/Users/xinyueli/GitHub/Fall510/Syllabus.pdf', 'wb') #Open variable called myfile in my computer\n",
    "myfile.write(r.read()) #write r in myfile\n",
    "myfile.close() #close the document"
   ]
  },
  {
   "cell_type": "markdown",
   "metadata": {},
   "source": [
    "## Modules"
   ]
  },
  {
   "cell_type": "markdown",
   "metadata": {},
   "source": [
    "### Create a variable"
   ]
  },
  {
   "cell_type": "code",
   "execution_count": 4,
   "metadata": {
    "collapsed": false
   },
   "outputs": [
    {
     "name": "stdout",
     "output_type": "stream",
     "text": [
      "Something Else\n"
     ]
    }
   ],
   "source": [
    "title = 'Something Else' #Create a variable called title\n",
    "print(title) #Print the content of title"
   ]
  },
  {
   "cell_type": "markdown",
   "metadata": {},
   "source": [
    "### Import variables from a module"
   ]
  },
  {
   "cell_type": "code",
   "execution_count": 9,
   "metadata": {
    "collapsed": false
   },
   "outputs": [
    {
     "name": "stdout",
     "output_type": "stream",
     "text": [
      "Math 510 Fall 2015\n",
      "54.0\n"
     ]
    }
   ],
   "source": [
    "import Class_1_Module #uses Class_1_Module name space\n",
    "dir(Class_1_Module) #show the names in Class_1_Module name space\n",
    "print(Class_1_Module.title) #print the content of variable title in Class_1_Module \n",
    "print(Class_1_Module.MyAge) #print the content of variable MyAge in Class_1_Module"
   ]
  },
  {
   "cell_type": "markdown",
   "metadata": {},
   "source": [
    "## Functions"
   ]
  },
  {
   "cell_type": "code",
   "execution_count": null,
   "metadata": {
    "collapsed": false
   },
   "outputs": [],
   "source": []
  }
 ],
 "metadata": {
  "kernelspec": {
   "display_name": "Python 3",
   "language": "python",
   "name": "python3"
  },
  "language_info": {
   "codemirror_mode": {
    "name": "ipython",
    "version": 3
   },
   "file_extension": ".py",
   "mimetype": "text/x-python",
   "name": "python",
   "nbconvert_exporter": "python",
   "pygments_lexer": "ipython3",
   "version": "3.4.3"
  }
 },
 "nbformat": 4,
 "nbformat_minor": 0
}
