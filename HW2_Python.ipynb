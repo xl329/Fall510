{
 "cells": [
  {
   "cell_type": "markdown",
   "metadata": {},
   "source": [
    "1 Define a function ‘fib’ that takes a number, ‘n’, as a parameter and prints all the Fibonacci numbers less than ‘n’ to the screen."
   ]
  },
  {
   "cell_type": "code",
   "execution_count": 31,
   "metadata": {
    "collapsed": false
   },
   "outputs": [
    {
     "name": "stdout",
     "output_type": "stream",
     "text": [
      "0 1 1 2 3 5 8 13 21 34 55 89 144 233 377 610 987 "
     ]
    }
   ],
   "source": [
    "def fib(n):\n",
    "    \"\"\"\n",
    "    Name the function fib(), create a variable n, which is an interger that no Fibonacci numbers in output can be larger than n.\n",
    "    Use a while loop to calculate the fibonacci numbers and use if statement to check if the number is less than n.\n",
    "    \"\"\"\n",
    "    a, b = 0, 1 #create variables a=0, b=1, which are the first tow numbers of fibonacci\n",
    "    while a < n: #the while loop runs when a is less than n\n",
    "        print(a, end=' ') #output a in line\n",
    "        a, b = b, a+b #a=a+b,b=b+ab; calculate the next two fibonacci numbers\n",
    "    if a<n: #check if a is less than n\n",
    "        print(a) #output new a in line\n",
    "fib(1000) #test fib() by input an interger"
   ]
  },
  {
   "cell_type": "markdown",
   "metadata": {},
   "source": [
    "2 Define a function mymax() that takes two numbers as arguments and returns the largest of them. Use the if-then-else construct available in Python. (It is true that Python has the max() function built in, but writing it yourself is nevertheless a good exercise.)"
   ]
  },
  {
   "cell_type": "code",
   "execution_count": 10,
   "metadata": {
    "collapsed": false
   },
   "outputs": [
    {
     "data": {
      "text/plain": [
       "11"
      ]
     },
     "execution_count": 10,
     "metadata": {},
     "output_type": "execute_result"
    }
   ],
   "source": [
    "def mymax(x,y):\n",
    "    \"\"\"\n",
    "    For the function mymax(), create two variables x&y, which are two intergers that are not equal.\n",
    "    Compare x and y by if statement.\n",
    "    \"\"\"\n",
    "    if x>y: #check if x is larger than y\n",
    "        return x #if x is larger than y, output x\n",
    "    else:\n",
    "        return y #if x is not larger than y, output y\n",
    "mymax(11,10) #test mymax() by input two intergers"
   ]
  },
  {
   "cell_type": "markdown",
   "metadata": {},
   "source": [
    "3 Define a function max_of_three() that takes three numbers as arguments and returns the largest of them."
   ]
  },
  {
   "cell_type": "code",
   "execution_count": 19,
   "metadata": {
    "collapsed": false
   },
   "outputs": [
    {
     "data": {
      "text/plain": [
       "10"
      ]
     },
     "execution_count": 19,
     "metadata": {},
     "output_type": "execute_result"
    }
   ],
   "source": [
    "def max_of_three(x,y,z):\n",
    "    \"\"\"\n",
    "    For function max_of_three(), create three variables x&y&z, which are three intergers that are not equal.\n",
    "    Compare x,y,z by if...elif...statement.\n",
    "    \"\"\"\n",
    "    if x>y and x>z: #check if x is larger than y and z\n",
    "        return x #if it is, x is the largest, output x\n",
    "    elif y>x and y>z: #check if y is larger than x and z\n",
    "        return y # if it is, y is the largest, output y\n",
    "    else:\n",
    "        return z #in other situation, z is the largest, output z\n",
    "max_of_three(8,10,9) #test max_of_three() by input three intergers"
   ]
  },
  {
   "cell_type": "markdown",
   "metadata": {},
   "source": [
    "4 Define a function mylen() that computes the length of a given list or string. (It is true that Python has the len() function built in, but writing it yourself is nevertheless a good exercise.)"
   ]
  },
  {
   "cell_type": "code",
   "execution_count": 4,
   "metadata": {
    "collapsed": false
   },
   "outputs": [
    {
     "data": {
      "text/plain": [
       "7"
      ]
     },
     "execution_count": 4,
     "metadata": {},
     "output_type": "execute_result"
    }
   ],
   "source": [
    "def mylen(list1):\n",
    "    \"\"\"\n",
    "    For the function mylen(), create a variable list1 which is a list of value\n",
    "    Use a for loop to calculate the length of list1\n",
    "    \"\"\"\n",
    "    c = 0 #create a variable c=0, we will use c to count the number of characters or numbers in list1(length of list1)\n",
    "    for num in list1: #the for loop go through the first characters or numbers to the last one in list1\n",
    "      c = c + 1 #add one to c\n",
    "    return c #output c which is the length of list1\n",
    "mylen([1,2,3,4,5,6,7]) #test mylen() by input a list of numbers "
   ]
  },
  {
   "cell_type": "markdown",
   "metadata": {},
   "source": [
    "5 Write a function that takes a character (i.e. a string of length 1) and returns True if it is a vowel, False otherwise."
   ]
  },
  {
   "cell_type": "code",
   "execution_count": 3,
   "metadata": {
    "collapsed": false
   },
   "outputs": [
    {
     "data": {
      "text/plain": [
       "True"
      ]
     },
     "execution_count": 3,
     "metadata": {},
     "output_type": "execute_result"
    }
   ],
   "source": [
    "def vowel(c):\n",
    "    \"\"\"\n",
    "    Name the function vowel(), create a variable c which is a character.\n",
    "    Use a if statement to check if it is a vowel or not\n",
    "    \"\"\"\n",
    "    if c== 'a' or 'e' or 'i' or 'o' or 'u' or 'A' or 'E' or 'I' or 'O' or 'U': #check if c is a vowel\n",
    "        return True #if c is a vowel, output true\n",
    "    else:\n",
    "        return False #if c is not a vowel, output false\n",
    "vowel('a') #test vowel() by input a character"
   ]
  },
  {
   "cell_type": "markdown",
   "metadata": {},
   "source": [
    "6 Write a function translate() that will translate a text into \"rövarspråket\" (Swedish for \"robber's language\"). That is, double every consonant and place an occurrence of \"o\" in between. For example, translate(\"this is fun\") should return the string \"tothohisos isos fofunon\"."
   ]
  },
  {
   "cell_type": "code",
   "execution_count": 43,
   "metadata": {
    "collapsed": false
   },
   "outputs": [
    {
     "name": "stdout",
     "output_type": "stream",
     "text": [
      "tothohisos isos fofunon"
     ]
    }
   ],
   "source": [
    "def translate(text):\n",
    "    \"\"\"\n",
    "    For the function translate(), create a variable text which is a string of words.\n",
    "    Use a for loop to translate text as requirements\n",
    "    \"\"\"\n",
    "    consonants = 'bcdfghjklmnpqrstvwxzBCDFGHJKLMNPQRSTVWXZ' #create a variable consonats which is a string of characters that contains all consonant with capital and small letters\n",
    "    for l in text: #the for loop go through form the first character to the last in text\n",
    "        if l in consonants: #check if the character is a consonant\n",
    "            print(l+'o'+l,end='') #if the character is a consonant, double the character and place an occurrence of o in between and output in line\n",
    "        else:\n",
    "            print(l,end='') #if the character is not a consonant, output the character in line\n",
    "translate('this is fun') #test translate() by input a string of words"
   ]
  },
  {
   "cell_type": "markdown",
   "metadata": {},
   "source": [
    "7 Define a function sum() and a function multiply() that sums and multiplies (respectively) all the numbers in a list of numbers. For example, sum([1, 2, 3, 4]) should return 10, and multiply([1, 2, 3, 4]) should return 24."
   ]
  },
  {
   "cell_type": "code",
   "execution_count": 8,
   "metadata": {
    "collapsed": false
   },
   "outputs": [
    {
     "name": "stdout",
     "output_type": "stream",
     "text": [
      "10\n",
      "24\n"
     ]
    }
   ],
   "source": [
    "def sum(n):\n",
    "    \"\"\"\n",
    "    For function sum(), create a variable n which is a list of numbers.\n",
    "    Use a for loop to add all numbers together.\n",
    "    \"\"\"\n",
    "    s=0 #create a variable s=0, suppose it will be the sum of all numbers in n\n",
    "    for num in n: #the for loop go through all numbers from the first to the last in n\n",
    "        s=s+num #add the number to s\n",
    "    return s #output s which is the sum of all numbers in n\n",
    "def multiply(n):\n",
    "    \"\"\"\n",
    "    For function multiply(), create a variable n which is a list of numbers(equals to n in sum()).\n",
    "    Use a for loop to multiple all numbers together.\n",
    "    \"\"\"\n",
    "    m=1 #create a variable m=1, suppose it will be the multiplies of all numbers in n\n",
    "    for num in n:#the for loop go through all numbers from the first to the last in n\n",
    "        m=m*num #multiple the number to m\n",
    "    return m #output m which is the multiplies of all numbers in n\n",
    "print(sum([1,2,3,4])) #test sum() by input a list of numbers and print s\n",
    "print(multiply([1,2,3,4])) #test multiply() by input a list of numbers and print m"
   ]
  },
  {
   "cell_type": "markdown",
   "metadata": {},
   "source": [
    "8 Define a function reverse() that computes the reversal of a string. For example, reverse(\"I am testing\") should return the string \"gnitset ma I\"."
   ]
  },
  {
   "cell_type": "code",
   "execution_count": 30,
   "metadata": {
    "collapsed": false
   },
   "outputs": [
    {
     "name": "stdout",
     "output_type": "stream",
     "text": [
      "gnitset ma I"
     ]
    }
   ],
   "source": [
    "def reverse(text):\n",
    "    \"\"\"\n",
    "    For function reverse(), create variable text which is a string of words.\n",
    "    Use a while loop to reverse the text.\n",
    "    \"\"\"\n",
    "    s=-1 #create a variable s, make s equals to -1, we will use s to locate the characters in text from the last to the first\n",
    "    while -s<=len(text): #the while loop go through the characters from the last to the first in text \n",
    "        print(text[s],end='') #output the character in line\n",
    "        s=s-1 #minus one from s and run next loop\n",
    "reverse('I am testing') #test reverse() by input a string of words"
   ]
  },
  {
   "cell_type": "markdown",
   "metadata": {},
   "source": [
    "9 Define a function is_palindrome() that recognizes palindromes (i.e. words that look the same written backwards). For example, is_palindrome(\"radar\") should return True."
   ]
  },
  {
   "cell_type": "code",
   "execution_count": 45,
   "metadata": {
    "collapsed": false
   },
   "outputs": [
    {
     "data": {
      "text/plain": [
       "True"
      ]
     },
     "execution_count": 45,
     "metadata": {},
     "output_type": "execute_result"
    }
   ],
   "source": [
    "def is_palindrome(text):\n",
    "    \"\"\"\n",
    "    For function is_palindrome(), create a variable text which is a string of characters(a word).\n",
    "    Use a for loop to recognize palindromes.\n",
    "    \"\"\"\n",
    "    c=0 #create a variable c=0, we will use c to count the number of characters equal to its symmetric character in text \n",
    "    for n in range(len(text)): #the for loop go through the first character to the last in text\n",
    "        if text[n]==text[-(n+1)]: #check if the character equals to its symmectric character\n",
    "            c=c+1 #if they are equal, add one to c\n",
    "    if c==len(text): #check if c equals to the number of characters of text, all characters equal to their symmetric character\n",
    "        return True #if c does, text is palindromes, output true\n",
    "    else:\n",
    "        return False #if c doesn't, text is not palindroems, output false\n",
    "is_palindrome('radar') #test is_palindrome() by input a word                   "
   ]
  },
  {
   "cell_type": "markdown",
   "metadata": {},
   "source": [
    "10 Write a function is_member() that takes a value (i.e. a number, string, etc) x and a list of values a, and returns True if x is a member of a, False otherwise. (Note that this is exactly what the in operator does, but for the sake of the exercise you should pretend Python did not have this operator.)"
   ]
  },
  {
   "cell_type": "code",
   "execution_count": 50,
   "metadata": {
    "collapsed": false
   },
   "outputs": [
    {
     "data": {
      "text/plain": [
       "False"
      ]
     },
     "execution_count": 50,
     "metadata": {},
     "output_type": "execute_result"
    }
   ],
   "source": [
    "def is_member(x,a):\n",
    "    \"\"\"\n",
    "    For the function is_memeber(), create variables x and a. x is a value(number/sring/etc),a is a list of value.\n",
    "    Use a for loop to check if x is a member of a.\n",
    "    \"\"\"\n",
    "    for n in a: #the for loop go through from the first value to the last in a\n",
    "        if x==n: #check if x equals to the value\n",
    "            return True #if x=the value, x is a member of a, output true\n",
    "    else:\n",
    "        return False #if x isn't equal to the value, x isn't a memeber of a, output false\n",
    "is_member(3,[2,4]) #test is_member() by input a value and a list of value"
   ]
  },
  {
   "cell_type": "markdown",
   "metadata": {},
   "source": [
    "11 Define a function overlapping() that takes two lists and returns True if they have at least one member in common, False otherwise. You may use your is_member() function, or the in operator, but for the sake of the exercise, you should (also) write it using two nested for-loops."
   ]
  },
  {
   "cell_type": "code",
   "execution_count": 53,
   "metadata": {
    "collapsed": false
   },
   "outputs": [
    {
     "data": {
      "text/plain": [
       "True"
      ]
     },
     "execution_count": 53,
     "metadata": {},
     "output_type": "execute_result"
    }
   ],
   "source": [
    "def overlapping(list1,list2):\n",
    "    \"\"\"\n",
    "    For the function overlapping(), create two variables list1 and list2, they are two lists of value.\n",
    "    Use two for loops to check if they have at least one member in common.\n",
    "    \"\"\"\n",
    "    for n1 in list1: #the for loop go through from the first value to the last in list1\n",
    "        for n2 in list2: #the for loop go through from the first value to the last in list2\n",
    "            if n1==n2: #check if the value in list1 equals to the value in list2\n",
    "                return True #if they are equal, they have at least one member in common, output ture and break loop\n",
    "    else:\n",
    "        return False #if all of the value in list1 can't find a equal member in list2, they don't have member in common, output false \n",
    "overlapping([2,4,5],[4,7,8]) #test overlapping() by input two lists of value"
   ]
  },
  {
   "cell_type": "markdown",
   "metadata": {},
   "source": [
    "12 Define a function generate_n_chars() that takes an integer n and a character c and returns a string, n characters long, consisting only of c:s. For example, generate_n_chars(5,\"x\") should return the string \"xxxxx\". (Python is unusual in that you can actually write an expression 5 * \"x\" that will evaluate to \"xxxxx\". For the sake of the exercise you should ignore that the problem can be solved in this manner.)"
   ]
  },
  {
   "cell_type": "code",
   "execution_count": 57,
   "metadata": {
    "collapsed": false,
    "scrolled": true
   },
   "outputs": [
    {
     "name": "stdout",
     "output_type": "stream",
     "text": [
      "xxxxx\n"
     ]
    }
   ],
   "source": [
    "def generate_n_chars(n,c):\n",
    "    \"\"\"\n",
    "    For function generate_n_chars(), create two variables n and c. n is an integer and c is a character.\n",
    "    Use a for loop to print n number of c.\n",
    "    \"\"\"\n",
    "    x=''#create a variable x which is a string of characters, and make it empty, it will be the output\n",
    "    for num in range(n): #the for loop go through from the 1 to n, the loop runs n times\n",
    "        x=x+c #add the character(c) to x \n",
    "    print(x) #output x, it is a string of n number of c\n",
    "generate_n_chars(5,'x') #test generate_n_chars() by input a interger and a character"
   ]
  },
  {
   "cell_type": "code",
   "execution_count": null,
   "metadata": {
    "collapsed": true
   },
   "outputs": [],
   "source": []
  }
 ],
 "metadata": {
  "kernelspec": {
   "display_name": "Python 3",
   "language": "python",
   "name": "python3"
  },
  "language_info": {
   "codemirror_mode": {
    "name": "ipython",
    "version": 3
   },
   "file_extension": ".py",
   "mimetype": "text/x-python",
   "name": "python",
   "nbconvert_exporter": "python",
   "pygments_lexer": "ipython3",
   "version": "3.4.3"
  }
 },
 "nbformat": 4,
 "nbformat_minor": 0
}
